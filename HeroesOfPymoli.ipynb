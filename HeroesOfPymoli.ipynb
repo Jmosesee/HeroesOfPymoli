{
 "cells": [
  {
   "cell_type": "markdown",
   "metadata": {},
   "source": [
    "# Heroes of Pymoli Data Analysis\n",
    "The default styling for tables in the notebook has been updated [PR #1776](https://github.com/jupyter/notebook/pull/1776/)"
   ]
  },
  {
   "cell_type": "code",
   "execution_count": 3,
   "metadata": {},
   "outputs": [],
   "source": [
    "import numpy as np\n",
    "import pandas as pd\n",
    "from collections import OrderedDict\n",
    "\n",
    "df = pd.read_json('purchase_data.json')\n",
    "pd.set_option('display.html.table_schema',True)"
   ]
  },
  {
   "cell_type": "markdown",
   "metadata": {},
   "source": [
    "## Player Count"
   ]
  },
  {
   "cell_type": "code",
   "execution_count": 4,
   "metadata": {},
   "outputs": [
    {
     "data": {
      "application/vnd.dataresource+json": {
       "data": [
        {
         "Total Players": 573,
         "index": 0
        }
       ],
       "schema": {
        "fields": [
         {
          "name": "index",
          "type": "integer"
         },
         {
          "name": "Total Players",
          "type": "integer"
         }
        ],
        "pandas_version": "0.20.0",
        "primaryKey": [
         "index"
        ]
       }
      },
      "text/html": [
       "<div>\n",
       "<style scoped>\n",
       "    .dataframe tbody tr th:only-of-type {\n",
       "        vertical-align: middle;\n",
       "    }\n",
       "\n",
       "    .dataframe tbody tr th {\n",
       "        vertical-align: top;\n",
       "    }\n",
       "\n",
       "    .dataframe thead th {\n",
       "        text-align: right;\n",
       "    }\n",
       "</style>\n",
       "<table border=\"1\" class=\"dataframe\">\n",
       "  <thead>\n",
       "    <tr style=\"text-align: right;\">\n",
       "      <th></th>\n",
       "      <th>Total Players</th>\n",
       "    </tr>\n",
       "  </thead>\n",
       "  <tbody>\n",
       "    <tr>\n",
       "      <th>0</th>\n",
       "      <td>573</td>\n",
       "    </tr>\n",
       "  </tbody>\n",
       "</table>\n",
       "</div>"
      ],
      "text/plain": [
       "   Total Players\n",
       "0            573"
      ]
     },
     "metadata": {},
     "output_type": "display_data"
    }
   ],
   "source": [
    "player_count = pd.DataFrame({'Total Players': [len(df['SN'].unique())]})\n",
    "display(player_count)"
   ]
  },
  {
   "cell_type": "markdown",
   "metadata": {},
   "source": [
    "## Purchasing Analysis (Total)"
   ]
  },
  {
   "cell_type": "code",
   "execution_count": 5,
   "metadata": {},
   "outputs": [
    {
     "data": {
      "application/vnd.dataresource+json": {
       "data": [
        {
         "Average Price": 2.9311923077,
         "Number of Purchases": 780,
         "Number of Unique Items": 183,
         "Total Revenue": 2286.33,
         "index": 0
        }
       ],
       "schema": {
        "fields": [
         {
          "name": "index",
          "type": "integer"
         },
         {
          "name": "Number of Unique Items",
          "type": "integer"
         },
         {
          "name": "Average Price",
          "type": "number"
         },
         {
          "name": "Number of Purchases",
          "type": "integer"
         },
         {
          "name": "Total Revenue",
          "type": "number"
         }
        ],
        "pandas_version": "0.20.0",
        "primaryKey": [
         "index"
        ]
       }
      },
      "text/html": [
       "<div>\n",
       "<style scoped>\n",
       "    .dataframe tbody tr th:only-of-type {\n",
       "        vertical-align: middle;\n",
       "    }\n",
       "\n",
       "    .dataframe tbody tr th {\n",
       "        vertical-align: top;\n",
       "    }\n",
       "\n",
       "    .dataframe thead th {\n",
       "        text-align: right;\n",
       "    }\n",
       "</style>\n",
       "<table border=\"1\" class=\"dataframe\">\n",
       "  <thead>\n",
       "    <tr style=\"text-align: right;\">\n",
       "      <th></th>\n",
       "      <th>Number of Unique Items</th>\n",
       "      <th>Average Price</th>\n",
       "      <th>Number of Purchases</th>\n",
       "      <th>Total Revenue</th>\n",
       "    </tr>\n",
       "  </thead>\n",
       "  <tbody>\n",
       "    <tr>\n",
       "      <th>0</th>\n",
       "      <td>183</td>\n",
       "      <td>$2.93</td>\n",
       "      <td>780</td>\n",
       "      <td>$2,286.33</td>\n",
       "    </tr>\n",
       "  </tbody>\n",
       "</table>\n",
       "</div>"
      ],
      "text/plain": [
       "   Number of Unique Items  Average Price  Number of Purchases  Total Revenue\n",
       "0                     183          $2.93                  780      $2,286.33"
      ]
     },
     "metadata": {},
     "output_type": "display_data"
    }
   ],
   "source": [
    "number_of_unique_items = len(df['Item ID'].unique())\n",
    "average_purchase_price = df['Price'].mean()\n",
    "total_number_of_purchases = len(df)\n",
    "total_revenue = df['Price'].sum()\n",
    "data = OrderedDict({'Number of Unique Items': [number_of_unique_items],\n",
    "            'Average Price': [average_purchase_price],\n",
    "            'Number of Purchases': [total_number_of_purchases],\n",
    "            'Total Revenue': [total_revenue]})\n",
    "purchasing_analysis = pd.DataFrame(data)\n",
    "pd.options.display.float_format = '${:,.2f}'.format\n",
    "display(purchasing_analysis)"
   ]
  },
  {
   "cell_type": "markdown",
   "metadata": {},
   "source": [
    "## Gender Demographics"
   ]
  },
  {
   "cell_type": "code",
   "execution_count": 6,
   "metadata": {},
   "outputs": [
    {
     "data": {
      "application/vnd.dataresource+json": {
       "data": [
        {
         "Percentage of Players": 81.1518324607,
         "Total Count": 465,
         "index": "Male"
        },
        {
         "Percentage of Players": 17.4520069808,
         "Total Count": 100,
         "index": "Female"
        },
        {
         "Percentage of Players": 1.3961605585,
         "Total Count": 8,
         "index": "Other / Non-Disclosed"
        }
       ],
       "schema": {
        "fields": [
         {
          "name": "index",
          "type": "string"
         },
         {
          "name": "Percentage of Players",
          "type": "number"
         },
         {
          "name": "Total Count",
          "type": "integer"
         }
        ],
        "pandas_version": "0.20.0",
        "primaryKey": [
         "index"
        ]
       }
      },
      "text/html": [
       "<div>\n",
       "<style scoped>\n",
       "    .dataframe tbody tr th:only-of-type {\n",
       "        vertical-align: middle;\n",
       "    }\n",
       "\n",
       "    .dataframe tbody tr th {\n",
       "        vertical-align: top;\n",
       "    }\n",
       "\n",
       "    .dataframe thead th {\n",
       "        text-align: right;\n",
       "    }\n",
       "</style>\n",
       "<table border=\"1\" class=\"dataframe\">\n",
       "  <thead>\n",
       "    <tr style=\"text-align: right;\">\n",
       "      <th></th>\n",
       "      <th>Percentage of Players</th>\n",
       "      <th>Total Count</th>\n",
       "    </tr>\n",
       "  </thead>\n",
       "  <tbody>\n",
       "    <tr>\n",
       "      <th>Male</th>\n",
       "      <td>81.15</td>\n",
       "      <td>465</td>\n",
       "    </tr>\n",
       "    <tr>\n",
       "      <th>Female</th>\n",
       "      <td>17.45</td>\n",
       "      <td>100</td>\n",
       "    </tr>\n",
       "    <tr>\n",
       "      <th>Other / Non-Disclosed</th>\n",
       "      <td>1.40</td>\n",
       "      <td>8</td>\n",
       "    </tr>\n",
       "  </tbody>\n",
       "</table>\n",
       "</div>"
      ],
      "text/plain": [
       "                       Percentage of Players  Total Count\n",
       "Male                                   81.15          465\n",
       "Female                                 17.45          100\n",
       "Other / Non-Disclosed                   1.40            8"
      ]
     },
     "metadata": {},
     "output_type": "display_data"
    }
   ],
   "source": [
    "unique_players = df.drop_duplicates(['SN'])\n",
    "gender_count = unique_players['Gender'].value_counts()\n",
    "gender_percent = 100.0 * gender_count / gender_count.sum()\n",
    "data = OrderedDict({'Percentage of Players': gender_percent,\n",
    "                   'Total Count': gender_count})\n",
    "gender_demographics = pd.DataFrame(data)\n",
    "pd.options.display.float_format = '{:,.2f}'.format\n",
    "display(gender_demographics)"
   ]
  },
  {
   "cell_type": "markdown",
   "metadata": {},
   "source": [
    "## Purchasing Analysis (Gender)"
   ]
  },
  {
   "cell_type": "code",
   "execution_count": 7,
   "metadata": {},
   "outputs": [
    {
     "data": {
      "application/vnd.dataresource+json": {
       "data": [
        {
         "Average Purchase Price": 2.8155147059,
         "Gender": "Female",
         "Normalized Totals": 3.8291,
         "Purchase Count": 136,
         "Total Purchase Value": 382.91
        },
        {
         "Average Purchase Price": 2.950521327,
         "Gender": "Male",
         "Normalized Totals": 4.016516129,
         "Purchase Count": 633,
         "Total Purchase Value": 1867.68
        },
        {
         "Average Purchase Price": 3.2490909091,
         "Gender": "Other / Non-Disclosed",
         "Normalized Totals": 4.4675,
         "Purchase Count": 11,
         "Total Purchase Value": 35.74
        }
       ],
       "schema": {
        "fields": [
         {
          "name": "Gender",
          "type": "string"
         },
         {
          "name": "Purchase Count",
          "type": "integer"
         },
         {
          "name": "Average Purchase Price",
          "type": "number"
         },
         {
          "name": "Total Purchase Value",
          "type": "number"
         },
         {
          "name": "Normalized Totals",
          "type": "number"
         }
        ],
        "pandas_version": "0.20.0",
        "primaryKey": [
         "Gender"
        ]
       }
      },
      "text/html": [
       "<div>\n",
       "<style scoped>\n",
       "    .dataframe tbody tr th:only-of-type {\n",
       "        vertical-align: middle;\n",
       "    }\n",
       "\n",
       "    .dataframe tbody tr th {\n",
       "        vertical-align: top;\n",
       "    }\n",
       "\n",
       "    .dataframe thead th {\n",
       "        text-align: right;\n",
       "    }\n",
       "</style>\n",
       "<table border=\"1\" class=\"dataframe\">\n",
       "  <thead>\n",
       "    <tr style=\"text-align: right;\">\n",
       "      <th></th>\n",
       "      <th>Purchase Count</th>\n",
       "      <th>Average Purchase Price</th>\n",
       "      <th>Total Purchase Value</th>\n",
       "      <th>Normalized Totals</th>\n",
       "    </tr>\n",
       "    <tr>\n",
       "      <th>Gender</th>\n",
       "      <th></th>\n",
       "      <th></th>\n",
       "      <th></th>\n",
       "      <th></th>\n",
       "    </tr>\n",
       "  </thead>\n",
       "  <tbody>\n",
       "    <tr>\n",
       "      <th>Female</th>\n",
       "      <td>136</td>\n",
       "      <td>$2.82</td>\n",
       "      <td>$382.91</td>\n",
       "      <td>$3.83</td>\n",
       "    </tr>\n",
       "    <tr>\n",
       "      <th>Male</th>\n",
       "      <td>633</td>\n",
       "      <td>$2.95</td>\n",
       "      <td>$1,867.68</td>\n",
       "      <td>$4.02</td>\n",
       "    </tr>\n",
       "    <tr>\n",
       "      <th>Other / Non-Disclosed</th>\n",
       "      <td>11</td>\n",
       "      <td>$3.25</td>\n",
       "      <td>$35.74</td>\n",
       "      <td>$4.47</td>\n",
       "    </tr>\n",
       "  </tbody>\n",
       "</table>\n",
       "</div>"
      ],
      "text/plain": [
       "                       Purchase Count  Average Purchase Price  \\\n",
       "Gender                                                          \n",
       "Female                            136                   $2.82   \n",
       "Male                              633                   $2.95   \n",
       "Other / Non-Disclosed              11                   $3.25   \n",
       "\n",
       "                       Total Purchase Value  Normalized Totals  \n",
       "Gender                                                          \n",
       "Female                              $382.91              $3.83  \n",
       "Male                              $1,867.68              $4.02  \n",
       "Other / Non-Disclosed                $35.74              $4.47  "
      ]
     },
     "metadata": {},
     "output_type": "display_data"
    }
   ],
   "source": [
    "grouped = df.groupby('Gender')\n",
    "data = OrderedDict({'Purchase Count': grouped.size(),\n",
    "                   'Average Purchase Price': grouped['Price'].mean(),\n",
    "                   'Total Purchase Value': grouped['Price'].sum(),\n",
    "                   'Normalized Totals': grouped['Price'].sum() / gender_count})\n",
    "purchasing_analysis = pd.DataFrame(data)\n",
    "pd.options.display.float_format = '${:,.2f}'.format\n",
    "display(purchasing_analysis)"
   ]
  },
  {
   "cell_type": "markdown",
   "metadata": {},
   "source": [
    "## Age Demographics"
   ]
  },
  {
   "cell_type": "code",
   "execution_count": 11,
   "metadata": {},
   "outputs": [
    {
     "data": {
      "application/vnd.dataresource+json": {
       "data": [
        {
         "Percentage of Players": 3.3158813264,
         "Total Count": 19,
         "index": "<10"
        },
        {
         "Percentage of Players": 4.0139616056,
         "Total Count": 23,
         "index": "10-14"
        },
        {
         "Percentage of Players": 17.4520069808,
         "Total Count": 100,
         "index": "15-19"
        },
        {
         "Percentage of Players": 45.2006980803,
         "Total Count": 259,
         "index": "20-24"
        },
        {
         "Percentage of Players": 15.1832460733,
         "Total Count": 87,
         "index": "25-29"
        },
        {
         "Percentage of Players": 8.202443281,
         "Total Count": 47,
         "index": "30-34"
        },
        {
         "Percentage of Players": 4.7120418848,
         "Total Count": 27,
         "index": "35-39"
        },
        {
         "Percentage of Players": 1.9197207679,
         "Total Count": 11,
         "index": "40+"
        }
       ],
       "schema": {
        "fields": [
         {
          "constraints": {
           "enum": [
            "<10",
            "10-14",
            "15-19",
            "20-24",
            "25-29",
            "30-34",
            "35-39",
            "40+"
           ]
          },
          "name": "index",
          "ordered": true,
          "type": "any"
         },
         {
          "name": "Percentage of Players",
          "type": "number"
         },
         {
          "name": "Total Count",
          "type": "integer"
         }
        ],
        "pandas_version": "0.20.0",
        "primaryKey": [
         "index"
        ]
       }
      },
      "text/html": [
       "<div>\n",
       "<style scoped>\n",
       "    .dataframe tbody tr th:only-of-type {\n",
       "        vertical-align: middle;\n",
       "    }\n",
       "\n",
       "    .dataframe tbody tr th {\n",
       "        vertical-align: top;\n",
       "    }\n",
       "\n",
       "    .dataframe thead th {\n",
       "        text-align: right;\n",
       "    }\n",
       "</style>\n",
       "<table border=\"1\" class=\"dataframe\">\n",
       "  <thead>\n",
       "    <tr style=\"text-align: right;\">\n",
       "      <th></th>\n",
       "      <th>Percentage of Players</th>\n",
       "      <th>Total Count</th>\n",
       "    </tr>\n",
       "  </thead>\n",
       "  <tbody>\n",
       "    <tr>\n",
       "      <th>&lt;10</th>\n",
       "      <td>3.32</td>\n",
       "      <td>19</td>\n",
       "    </tr>\n",
       "    <tr>\n",
       "      <th>10-14</th>\n",
       "      <td>4.01</td>\n",
       "      <td>23</td>\n",
       "    </tr>\n",
       "    <tr>\n",
       "      <th>15-19</th>\n",
       "      <td>17.45</td>\n",
       "      <td>100</td>\n",
       "    </tr>\n",
       "    <tr>\n",
       "      <th>20-24</th>\n",
       "      <td>45.20</td>\n",
       "      <td>259</td>\n",
       "    </tr>\n",
       "    <tr>\n",
       "      <th>25-29</th>\n",
       "      <td>15.18</td>\n",
       "      <td>87</td>\n",
       "    </tr>\n",
       "    <tr>\n",
       "      <th>30-34</th>\n",
       "      <td>8.20</td>\n",
       "      <td>47</td>\n",
       "    </tr>\n",
       "    <tr>\n",
       "      <th>35-39</th>\n",
       "      <td>4.71</td>\n",
       "      <td>27</td>\n",
       "    </tr>\n",
       "    <tr>\n",
       "      <th>40+</th>\n",
       "      <td>1.92</td>\n",
       "      <td>11</td>\n",
       "    </tr>\n",
       "  </tbody>\n",
       "</table>\n",
       "</div>"
      ],
      "text/plain": [
       "       Percentage of Players  Total Count\n",
       "<10                     3.32           19\n",
       "10-14                   4.01           23\n",
       "15-19                  17.45          100\n",
       "20-24                  45.20          259\n",
       "25-29                  15.18           87\n",
       "30-34                   8.20           47\n",
       "35-39                   4.71           27\n",
       "40+                     1.92           11"
      ]
     },
     "metadata": {},
     "output_type": "display_data"
    }
   ],
   "source": [
    "l = ['<10', '10-14', '15-19', '20-24', '25-29', '30-34', '35-39', '40+']\n",
    "ages = [0,10,15,20,25,30,35,40,999]\n",
    "\n",
    "#For some reason the code below doesn't return the labels.  Could you explain what's wrong with it please?\n",
    "bins = pd.IntervalIndex.from_breaks(ages, closed = 'left')\n",
    "df['Age Range'] = pd.cut(df['Age'], bins, labels = l)\n",
    "\n",
    "#This line works fine though\n",
    "df['Age Range'] = pd.cut(df['Age'], ages, right = False, labels = l)\n",
    "\n",
    "unique_players = df.drop_duplicates(['SN'])\n",
    "age_count = unique_players['Age Range'].value_counts().sort_index()\n",
    "age_percent = 100.0 * age_count / age_count.sum()\n",
    "data = OrderedDict({'Percentage of Players': age_percent,\n",
    "                   'Total Count': age_count})\n",
    "age_demographics = pd.DataFrame(data)\n",
    "pd.options.display.float_format = '{:,.2f}'.format\n",
    "display(age_demographics)"
   ]
  },
  {
   "cell_type": "markdown",
   "metadata": {},
   "source": [
    "## Purchasing Analysis (Age)"
   ]
  },
  {
   "cell_type": "code",
   "execution_count": 171,
   "metadata": {},
   "outputs": [
    {
     "data": {
      "application/vnd.dataresource+json": {
       "data": [
        {
         "Age Range": "<10",
         "Average Purchase Price": 2.9807142857,
         "Normalized Totals": 4.3926315789,
         "Purchase Count": 28,
         "Total Purchase Value": 83.46
        },
        {
         "Age Range": "10-14",
         "Average Purchase Price": 2.77,
         "Normalized Totals": 4.2152173913,
         "Purchase Count": 35,
         "Total Purchase Value": 96.95
        },
        {
         "Age Range": "15-19",
         "Average Purchase Price": 2.9054135338,
         "Normalized Totals": 3.8642,
         "Purchase Count": 133,
         "Total Purchase Value": 386.42
        },
        {
         "Age Range": "20-24",
         "Average Purchase Price": 2.9130059524,
         "Normalized Totals": 3.779034749,
         "Purchase Count": 336,
         "Total Purchase Value": 978.77
        },
        {
         "Age Range": "25-29",
         "Average Purchase Price": 2.96264,
         "Normalized Totals": 4.2566666667,
         "Purchase Count": 125,
         "Total Purchase Value": 370.33
        },
        {
         "Age Range": "30-34",
         "Average Purchase Price": 3.08203125,
         "Normalized Totals": 4.1968085106,
         "Purchase Count": 64,
         "Total Purchase Value": 197.25
        },
        {
         "Age Range": "35-39",
         "Average Purchase Price": 2.8428571429,
         "Normalized Totals": 4.4222222222,
         "Purchase Count": 42,
         "Total Purchase Value": 119.4
        },
        {
         "Age Range": "40+",
         "Average Purchase Price": 3.1617647059,
         "Normalized Totals": 4.8863636364,
         "Purchase Count": 17,
         "Total Purchase Value": 53.75
        }
       ],
       "schema": {
        "fields": [
         {
          "constraints": {
           "enum": [
            "<10",
            "10-14",
            "15-19",
            "20-24",
            "25-29",
            "30-34",
            "35-39",
            "40+"
           ]
          },
          "name": "Age Range",
          "ordered": true,
          "type": "any"
         },
         {
          "name": "Purchase Count",
          "type": "integer"
         },
         {
          "name": "Average Purchase Price",
          "type": "number"
         },
         {
          "name": "Total Purchase Value",
          "type": "number"
         },
         {
          "name": "Normalized Totals",
          "type": "number"
         }
        ],
        "pandas_version": "0.20.0",
        "primaryKey": [
         "Age Range"
        ]
       }
      },
      "text/html": [
       "<div>\n",
       "<style scoped>\n",
       "    .dataframe tbody tr th:only-of-type {\n",
       "        vertical-align: middle;\n",
       "    }\n",
       "\n",
       "    .dataframe tbody tr th {\n",
       "        vertical-align: top;\n",
       "    }\n",
       "\n",
       "    .dataframe thead th {\n",
       "        text-align: right;\n",
       "    }\n",
       "</style>\n",
       "<table border=\"1\" class=\"dataframe\">\n",
       "  <thead>\n",
       "    <tr style=\"text-align: right;\">\n",
       "      <th></th>\n",
       "      <th>Purchase Count</th>\n",
       "      <th>Average Purchase Price</th>\n",
       "      <th>Total Purchase Value</th>\n",
       "      <th>Normalized Totals</th>\n",
       "    </tr>\n",
       "    <tr>\n",
       "      <th>Age Range</th>\n",
       "      <th></th>\n",
       "      <th></th>\n",
       "      <th></th>\n",
       "      <th></th>\n",
       "    </tr>\n",
       "  </thead>\n",
       "  <tbody>\n",
       "    <tr>\n",
       "      <th>&lt;10</th>\n",
       "      <td>28</td>\n",
       "      <td>$2.98</td>\n",
       "      <td>$83.46</td>\n",
       "      <td>$4.39</td>\n",
       "    </tr>\n",
       "    <tr>\n",
       "      <th>10-14</th>\n",
       "      <td>35</td>\n",
       "      <td>$2.77</td>\n",
       "      <td>$96.95</td>\n",
       "      <td>$4.22</td>\n",
       "    </tr>\n",
       "    <tr>\n",
       "      <th>15-19</th>\n",
       "      <td>133</td>\n",
       "      <td>$2.91</td>\n",
       "      <td>$386.42</td>\n",
       "      <td>$3.86</td>\n",
       "    </tr>\n",
       "    <tr>\n",
       "      <th>20-24</th>\n",
       "      <td>336</td>\n",
       "      <td>$2.91</td>\n",
       "      <td>$978.77</td>\n",
       "      <td>$3.78</td>\n",
       "    </tr>\n",
       "    <tr>\n",
       "      <th>25-29</th>\n",
       "      <td>125</td>\n",
       "      <td>$2.96</td>\n",
       "      <td>$370.33</td>\n",
       "      <td>$4.26</td>\n",
       "    </tr>\n",
       "    <tr>\n",
       "      <th>30-34</th>\n",
       "      <td>64</td>\n",
       "      <td>$3.08</td>\n",
       "      <td>$197.25</td>\n",
       "      <td>$4.20</td>\n",
       "    </tr>\n",
       "    <tr>\n",
       "      <th>35-39</th>\n",
       "      <td>42</td>\n",
       "      <td>$2.84</td>\n",
       "      <td>$119.40</td>\n",
       "      <td>$4.42</td>\n",
       "    </tr>\n",
       "    <tr>\n",
       "      <th>40+</th>\n",
       "      <td>17</td>\n",
       "      <td>$3.16</td>\n",
       "      <td>$53.75</td>\n",
       "      <td>$4.89</td>\n",
       "    </tr>\n",
       "  </tbody>\n",
       "</table>\n",
       "</div>"
      ],
      "text/plain": [
       "           Purchase Count  Average Purchase Price  Total Purchase Value  \\\n",
       "Age Range                                                                 \n",
       "<10                    28                   $2.98                $83.46   \n",
       "10-14                  35                   $2.77                $96.95   \n",
       "15-19                 133                   $2.91               $386.42   \n",
       "20-24                 336                   $2.91               $978.77   \n",
       "25-29                 125                   $2.96               $370.33   \n",
       "30-34                  64                   $3.08               $197.25   \n",
       "35-39                  42                   $2.84               $119.40   \n",
       "40+                    17                   $3.16                $53.75   \n",
       "\n",
       "           Normalized Totals  \n",
       "Age Range                     \n",
       "<10                    $4.39  \n",
       "10-14                  $4.22  \n",
       "15-19                  $3.86  \n",
       "20-24                  $3.78  \n",
       "25-29                  $4.26  \n",
       "30-34                  $4.20  \n",
       "35-39                  $4.42  \n",
       "40+                    $4.89  "
      ]
     },
     "metadata": {},
     "output_type": "display_data"
    }
   ],
   "source": [
    "grouped = df.groupby('Age Range')\n",
    "data = OrderedDict({'Purchase Count': grouped.size(),\n",
    "                   'Average Purchase Price': grouped['Price'].mean(),\n",
    "                   'Total Purchase Value': grouped['Price'].sum(),\n",
    "                   'Normalized Totals': grouped['Price'].sum() / age_count})\n",
    "purchasing_analysis = pd.DataFrame(data)\n",
    "pd.options.display.float_format = '${:,.2f}'.format\n",
    "display(purchasing_analysis)"
   ]
  },
  {
   "cell_type": "markdown",
   "metadata": {},
   "source": [
    "## Top Spenders"
   ]
  },
  {
   "cell_type": "code",
   "execution_count": 179,
   "metadata": {},
   "outputs": [
    {
     "data": {
      "application/vnd.dataresource+json": {
       "data": [
        {
         "Average Purchase Price": 3.412,
         "Purchase Count": 5,
         "SN": "Undirrala66",
         "Total Purchase Value": 17.06
        },
        {
         "Average Purchase Price": 3.39,
         "Purchase Count": 4,
         "SN": "Saedue76",
         "Total Purchase Value": 13.56
        },
        {
         "Average Purchase Price": 3.185,
         "Purchase Count": 4,
         "SN": "Mindimnya67",
         "Total Purchase Value": 12.74
        },
        {
         "Average Purchase Price": 4.2433333333,
         "Purchase Count": 3,
         "SN": "Haellysu29",
         "Total Purchase Value": 12.73
        },
        {
         "Average Purchase Price": 3.86,
         "Purchase Count": 3,
         "SN": "Eoda93",
         "Total Purchase Value": 11.58
        }
       ],
       "schema": {
        "fields": [
         {
          "name": "SN",
          "type": "string"
         },
         {
          "name": "Purchase Count",
          "type": "integer"
         },
         {
          "name": "Average Purchase Price",
          "type": "number"
         },
         {
          "name": "Total Purchase Value",
          "type": "number"
         }
        ],
        "pandas_version": "0.20.0",
        "primaryKey": [
         "SN"
        ]
       }
      },
      "text/html": [
       "<div>\n",
       "<style scoped>\n",
       "    .dataframe tbody tr th:only-of-type {\n",
       "        vertical-align: middle;\n",
       "    }\n",
       "\n",
       "    .dataframe tbody tr th {\n",
       "        vertical-align: top;\n",
       "    }\n",
       "\n",
       "    .dataframe thead th {\n",
       "        text-align: right;\n",
       "    }\n",
       "</style>\n",
       "<table border=\"1\" class=\"dataframe\">\n",
       "  <thead>\n",
       "    <tr style=\"text-align: right;\">\n",
       "      <th></th>\n",
       "      <th>Purchase Count</th>\n",
       "      <th>Average Purchase Price</th>\n",
       "      <th>Total Purchase Value</th>\n",
       "    </tr>\n",
       "    <tr>\n",
       "      <th>SN</th>\n",
       "      <th></th>\n",
       "      <th></th>\n",
       "      <th></th>\n",
       "    </tr>\n",
       "  </thead>\n",
       "  <tbody>\n",
       "    <tr>\n",
       "      <th>Undirrala66</th>\n",
       "      <td>5</td>\n",
       "      <td>$3.41</td>\n",
       "      <td>$17.06</td>\n",
       "    </tr>\n",
       "    <tr>\n",
       "      <th>Saedue76</th>\n",
       "      <td>4</td>\n",
       "      <td>$3.39</td>\n",
       "      <td>$13.56</td>\n",
       "    </tr>\n",
       "    <tr>\n",
       "      <th>Mindimnya67</th>\n",
       "      <td>4</td>\n",
       "      <td>$3.18</td>\n",
       "      <td>$12.74</td>\n",
       "    </tr>\n",
       "    <tr>\n",
       "      <th>Haellysu29</th>\n",
       "      <td>3</td>\n",
       "      <td>$4.24</td>\n",
       "      <td>$12.73</td>\n",
       "    </tr>\n",
       "    <tr>\n",
       "      <th>Eoda93</th>\n",
       "      <td>3</td>\n",
       "      <td>$3.86</td>\n",
       "      <td>$11.58</td>\n",
       "    </tr>\n",
       "  </tbody>\n",
       "</table>\n",
       "</div>"
      ],
      "text/plain": [
       "             Purchase Count  Average Purchase Price  Total Purchase Value\n",
       "SN                                                                       \n",
       "Undirrala66               5                   $3.41                $17.06\n",
       "Saedue76                  4                   $3.39                $13.56\n",
       "Mindimnya67               4                   $3.18                $12.74\n",
       "Haellysu29                3                   $4.24                $12.73\n",
       "Eoda93                    3                   $3.86                $11.58"
      ]
     },
     "metadata": {},
     "output_type": "display_data"
    }
   ],
   "source": [
    "grouped = df.groupby('SN')\n",
    "data = OrderedDict({'Purchase Count': grouped.size(),\n",
    "                   'Average Purchase Price': grouped['Price'].mean(),\n",
    "                   'Total Purchase Value': grouped['Price'].sum()})\n",
    "top_spender_analysis = pd.DataFrame(data).sort_values(by = 'Total Purchase Value', ascending = False)\n",
    "pd.options.display.float_format = '${:,.2f}'.format\n",
    "display(top_spender_analysis.head())"
   ]
  },
  {
   "cell_type": "markdown",
   "metadata": {},
   "source": [
    "## Most Popular Items\n",
    "Trying to include the Item ID in this table causes problems because some Item Names have more than one Item ID.  Is there a correct way to deal with this situation?"
   ]
  },
  {
   "cell_type": "code",
   "execution_count": 26,
   "metadata": {},
   "outputs": [
    {
     "data": {
      "application/vnd.dataresource+json": {
       "data": [
        {
         "Item Name": "Final Critic",
         "Item Price": 2.7571428571,
         "Purchase Count": 14,
         "Total Purchase Value": 38.6
        },
        {
         "Item Name": "Arcane Gem",
         "Item Price": 2.23,
         "Purchase Count": 11,
         "Total Purchase Value": 24.53
        },
        {
         "Item Name": "Betrayal, Whisper of Grieving Widows",
         "Item Price": 2.35,
         "Purchase Count": 11,
         "Total Purchase Value": 25.85
        },
        {
         "Item Name": "Stormcaller",
         "Item Price": 3.465,
         "Purchase Count": 10,
         "Total Purchase Value": 34.65
        },
        {
         "Item Name": "Woeful Adamantite Claymore",
         "Item Price": 1.24,
         "Purchase Count": 9,
         "Total Purchase Value": 11.16
        }
       ],
       "schema": {
        "fields": [
         {
          "name": "Item Name",
          "type": "string"
         },
         {
          "name": "Purchase Count",
          "type": "integer"
         },
         {
          "name": "Item Price",
          "type": "number"
         },
         {
          "name": "Total Purchase Value",
          "type": "number"
         }
        ],
        "pandas_version": "0.20.0",
        "primaryKey": [
         "Item Name"
        ]
       }
      },
      "text/html": [
       "<div>\n",
       "<style scoped>\n",
       "    .dataframe tbody tr th:only-of-type {\n",
       "        vertical-align: middle;\n",
       "    }\n",
       "\n",
       "    .dataframe tbody tr th {\n",
       "        vertical-align: top;\n",
       "    }\n",
       "\n",
       "    .dataframe thead th {\n",
       "        text-align: right;\n",
       "    }\n",
       "</style>\n",
       "<table border=\"1\" class=\"dataframe\">\n",
       "  <thead>\n",
       "    <tr style=\"text-align: right;\">\n",
       "      <th></th>\n",
       "      <th>Purchase Count</th>\n",
       "      <th>Item Price</th>\n",
       "      <th>Total Purchase Value</th>\n",
       "    </tr>\n",
       "    <tr>\n",
       "      <th>Item Name</th>\n",
       "      <th></th>\n",
       "      <th></th>\n",
       "      <th></th>\n",
       "    </tr>\n",
       "  </thead>\n",
       "  <tbody>\n",
       "    <tr>\n",
       "      <th>Final Critic</th>\n",
       "      <td>14</td>\n",
       "      <td>$2.76</td>\n",
       "      <td>$38.60</td>\n",
       "    </tr>\n",
       "    <tr>\n",
       "      <th>Arcane Gem</th>\n",
       "      <td>11</td>\n",
       "      <td>$2.23</td>\n",
       "      <td>$24.53</td>\n",
       "    </tr>\n",
       "    <tr>\n",
       "      <th>Betrayal, Whisper of Grieving Widows</th>\n",
       "      <td>11</td>\n",
       "      <td>$2.35</td>\n",
       "      <td>$25.85</td>\n",
       "    </tr>\n",
       "    <tr>\n",
       "      <th>Stormcaller</th>\n",
       "      <td>10</td>\n",
       "      <td>$3.46</td>\n",
       "      <td>$34.65</td>\n",
       "    </tr>\n",
       "    <tr>\n",
       "      <th>Woeful Adamantite Claymore</th>\n",
       "      <td>9</td>\n",
       "      <td>$1.24</td>\n",
       "      <td>$11.16</td>\n",
       "    </tr>\n",
       "  </tbody>\n",
       "</table>\n",
       "</div>"
      ],
      "text/plain": [
       "                                      Purchase Count  Item Price  \\\n",
       "Item Name                                                          \n",
       "Final Critic                                      14       $2.76   \n",
       "Arcane Gem                                        11       $2.23   \n",
       "Betrayal, Whisper of Grieving Widows              11       $2.35   \n",
       "Stormcaller                                       10       $3.46   \n",
       "Woeful Adamantite Claymore                         9       $1.24   \n",
       "\n",
       "                                      Total Purchase Value  \n",
       "Item Name                                                   \n",
       "Final Critic                                        $38.60  \n",
       "Arcane Gem                                          $24.53  \n",
       "Betrayal, Whisper of Grieving Widows                $25.85  \n",
       "Stormcaller                                         $34.65  \n",
       "Woeful Adamantite Claymore                          $11.16  "
      ]
     },
     "metadata": {},
     "output_type": "display_data"
    }
   ],
   "source": [
    "grouped = df.groupby(['Item Name'])\n",
    "data = OrderedDict({'Purchase Count': grouped.size(),\n",
    "                   'Item Price': grouped['Price'].mean(),\n",
    "                   'Total Purchase Value': grouped['Price'].sum()})\n",
    "popular_item_analysis = pd.DataFrame(data).sort_values(by = 'Purchase Count', ascending = False)\n",
    "pd.options.display.float_format = '${:,.2f}'.format\n",
    "display(popular_item_analysis.head())"
   ]
  },
  {
   "cell_type": "markdown",
   "metadata": {},
   "source": [
    "## Most Profitable Items\n",
    "Trying to include the Item ID in this table causes problems because some Item Names have more than one Item ID. Is there a correct way to deal with this situation?"
   ]
  },
  {
   "cell_type": "code",
   "execution_count": 28,
   "metadata": {},
   "outputs": [
    {
     "data": {
      "application/vnd.dataresource+json": {
       "data": [
        {
         "Item Name": "Final Critic",
         "Item Price": 2.7571428571,
         "Purchase Count": 14,
         "Total Purchase Value": 38.6
        },
        {
         "Item Name": "Retribution Axe",
         "Item Price": 4.14,
         "Purchase Count": 9,
         "Total Purchase Value": 37.26
        },
        {
         "Item Name": "Stormcaller",
         "Item Price": 3.465,
         "Purchase Count": 10,
         "Total Purchase Value": 34.65
        },
        {
         "Item Name": "Spectral Diamond Doomblade",
         "Item Price": 4.25,
         "Purchase Count": 7,
         "Total Purchase Value": 29.75
        },
        {
         "Item Name": "Orenmir",
         "Item Price": 4.95,
         "Purchase Count": 6,
         "Total Purchase Value": 29.7
        }
       ],
       "schema": {
        "fields": [
         {
          "name": "Item Name",
          "type": "string"
         },
         {
          "name": "Purchase Count",
          "type": "integer"
         },
         {
          "name": "Item Price",
          "type": "number"
         },
         {
          "name": "Total Purchase Value",
          "type": "number"
         }
        ],
        "pandas_version": "0.20.0",
        "primaryKey": [
         "Item Name"
        ]
       }
      },
      "text/html": [
       "<div>\n",
       "<style scoped>\n",
       "    .dataframe tbody tr th:only-of-type {\n",
       "        vertical-align: middle;\n",
       "    }\n",
       "\n",
       "    .dataframe tbody tr th {\n",
       "        vertical-align: top;\n",
       "    }\n",
       "\n",
       "    .dataframe thead th {\n",
       "        text-align: right;\n",
       "    }\n",
       "</style>\n",
       "<table border=\"1\" class=\"dataframe\">\n",
       "  <thead>\n",
       "    <tr style=\"text-align: right;\">\n",
       "      <th></th>\n",
       "      <th>Purchase Count</th>\n",
       "      <th>Item Price</th>\n",
       "      <th>Total Purchase Value</th>\n",
       "    </tr>\n",
       "    <tr>\n",
       "      <th>Item Name</th>\n",
       "      <th></th>\n",
       "      <th></th>\n",
       "      <th></th>\n",
       "    </tr>\n",
       "  </thead>\n",
       "  <tbody>\n",
       "    <tr>\n",
       "      <th>Final Critic</th>\n",
       "      <td>14</td>\n",
       "      <td>$2.76</td>\n",
       "      <td>$38.60</td>\n",
       "    </tr>\n",
       "    <tr>\n",
       "      <th>Retribution Axe</th>\n",
       "      <td>9</td>\n",
       "      <td>$4.14</td>\n",
       "      <td>$37.26</td>\n",
       "    </tr>\n",
       "    <tr>\n",
       "      <th>Stormcaller</th>\n",
       "      <td>10</td>\n",
       "      <td>$3.46</td>\n",
       "      <td>$34.65</td>\n",
       "    </tr>\n",
       "    <tr>\n",
       "      <th>Spectral Diamond Doomblade</th>\n",
       "      <td>7</td>\n",
       "      <td>$4.25</td>\n",
       "      <td>$29.75</td>\n",
       "    </tr>\n",
       "    <tr>\n",
       "      <th>Orenmir</th>\n",
       "      <td>6</td>\n",
       "      <td>$4.95</td>\n",
       "      <td>$29.70</td>\n",
       "    </tr>\n",
       "  </tbody>\n",
       "</table>\n",
       "</div>"
      ],
      "text/plain": [
       "                            Purchase Count  Item Price  Total Purchase Value\n",
       "Item Name                                                                   \n",
       "Final Critic                            14       $2.76                $38.60\n",
       "Retribution Axe                          9       $4.14                $37.26\n",
       "Stormcaller                             10       $3.46                $34.65\n",
       "Spectral Diamond Doomblade               7       $4.25                $29.75\n",
       "Orenmir                                  6       $4.95                $29.70"
      ]
     },
     "metadata": {},
     "output_type": "display_data"
    }
   ],
   "source": [
    "grouped = df.groupby(['Item Name'])\n",
    "data = OrderedDict({'Purchase Count': grouped.size(),\n",
    "                   'Item Price': grouped['Price'].mean(),\n",
    "                   'Total Purchase Value': grouped['Price'].sum()})\n",
    "profitable_item_analysis = pd.DataFrame(data).sort_values(by = 'Total Purchase Value', ascending = False)\n",
    "pd.options.display.float_format = '${:,.2f}'.format\n",
    "display(profitable_item_analysis.head())"
   ]
  },
  {
   "cell_type": "code",
   "execution_count": null,
   "metadata": {},
   "outputs": [],
   "source": []
  }
 ],
 "metadata": {
  "kernelspec": {
   "display_name": "Python 3",
   "language": "python",
   "name": "python3"
  },
  "language_info": {
   "codemirror_mode": {
    "name": "ipython",
    "version": 3
   },
   "file_extension": ".py",
   "mimetype": "text/x-python",
   "name": "python",
   "nbconvert_exporter": "python",
   "pygments_lexer": "ipython3",
   "version": "3.6.4"
  }
 },
 "nbformat": 4,
 "nbformat_minor": 2
}
